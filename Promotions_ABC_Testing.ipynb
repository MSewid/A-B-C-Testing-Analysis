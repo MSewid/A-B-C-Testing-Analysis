{
 "cells": [
  {
   "cell_type": "markdown",
   "id": "963af999",
   "metadata": {},
   "source": [
    "# A/B/C Testing Analysis: Fast Food Marketing Campaign Performance\n",
    "## Statistical Analysis of Three Marketing Promotions\n",
    "---"
   ]
  },
  {
   "cell_type": "code",
   "execution_count": null,
   "id": "d5665bdd",
   "metadata": {},
   "outputs": [],
   "source": [
    "import pandas as pd\n",
    "import numpy as np\n",
    "import matplotlib.pyplot as plt\n",
    "import seaborn as sns\n",
    "from scipy import stats\n",
    "from scipy.stats import f_oneway, kruskal, levene, shapiro, mannwhitneyu\n",
    "import warnings\n",
    "warnings.filterwarnings('ignore')"
   ]
  },
  {
   "cell_type": "code",
   "execution_count": null,
   "id": "38530873",
   "metadata": {},
   "outputs": [
    {
     "name": "stdout",
     "output_type": "stream",
     "text": [
      "Data Overview\n",
      "-------------------\n",
      "Rows: 548, Columns: 7\n",
      "\n",
      "Columns: ['MarketID', 'MarketSize', 'LocationID', 'AgeOfStore', 'Promotion', 'week', 'SalesInThousands']\n"
     ]
    },
    {
     "data": {
      "text/html": [
       "<div>\n",
       "<style scoped>\n",
       "    .dataframe tbody tr th:only-of-type {\n",
       "        vertical-align: middle;\n",
       "    }\n",
       "\n",
       "    .dataframe tbody tr th {\n",
       "        vertical-align: top;\n",
       "    }\n",
       "\n",
       "    .dataframe thead th {\n",
       "        text-align: right;\n",
       "    }\n",
       "</style>\n",
       "<table border=\"1\" class=\"dataframe\">\n",
       "  <thead>\n",
       "    <tr style=\"text-align: right;\">\n",
       "      <th></th>\n",
       "      <th>MarketID</th>\n",
       "      <th>MarketSize</th>\n",
       "      <th>LocationID</th>\n",
       "      <th>AgeOfStore</th>\n",
       "      <th>Promotion</th>\n",
       "      <th>week</th>\n",
       "      <th>SalesInThousands</th>\n",
       "    </tr>\n",
       "  </thead>\n",
       "  <tbody>\n",
       "    <tr>\n",
       "      <th>0</th>\n",
       "      <td>1</td>\n",
       "      <td>Medium</td>\n",
       "      <td>1</td>\n",
       "      <td>4</td>\n",
       "      <td>3</td>\n",
       "      <td>1</td>\n",
       "      <td>33.73</td>\n",
       "    </tr>\n",
       "    <tr>\n",
       "      <th>1</th>\n",
       "      <td>1</td>\n",
       "      <td>Medium</td>\n",
       "      <td>1</td>\n",
       "      <td>4</td>\n",
       "      <td>3</td>\n",
       "      <td>2</td>\n",
       "      <td>35.67</td>\n",
       "    </tr>\n",
       "    <tr>\n",
       "      <th>2</th>\n",
       "      <td>1</td>\n",
       "      <td>Medium</td>\n",
       "      <td>1</td>\n",
       "      <td>4</td>\n",
       "      <td>3</td>\n",
       "      <td>3</td>\n",
       "      <td>29.03</td>\n",
       "    </tr>\n",
       "    <tr>\n",
       "      <th>3</th>\n",
       "      <td>1</td>\n",
       "      <td>Medium</td>\n",
       "      <td>1</td>\n",
       "      <td>4</td>\n",
       "      <td>3</td>\n",
       "      <td>4</td>\n",
       "      <td>39.25</td>\n",
       "    </tr>\n",
       "    <tr>\n",
       "      <th>4</th>\n",
       "      <td>1</td>\n",
       "      <td>Medium</td>\n",
       "      <td>2</td>\n",
       "      <td>5</td>\n",
       "      <td>2</td>\n",
       "      <td>1</td>\n",
       "      <td>27.81</td>\n",
       "    </tr>\n",
       "  </tbody>\n",
       "</table>\n",
       "</div>"
      ],
      "text/plain": [
       "   MarketID MarketSize  LocationID  AgeOfStore  Promotion  week  \\\n",
       "0         1     Medium           1           4          3     1   \n",
       "1         1     Medium           1           4          3     2   \n",
       "2         1     Medium           1           4          3     3   \n",
       "3         1     Medium           1           4          3     4   \n",
       "4         1     Medium           2           5          2     1   \n",
       "\n",
       "   SalesInThousands  \n",
       "0             33.73  \n",
       "1             35.67  \n",
       "2             29.03  \n",
       "3             39.25  \n",
       "4             27.81  "
      ]
     },
     "metadata": {},
     "output_type": "display_data"
    },
    {
     "name": "stdout",
     "output_type": "stream",
     "text": [
      "\n",
      "Basic Statistics\n",
      "-------------------\n"
     ]
    },
    {
     "data": {
      "text/html": [
       "<div>\n",
       "<style scoped>\n",
       "    .dataframe tbody tr th:only-of-type {\n",
       "        vertical-align: middle;\n",
       "    }\n",
       "\n",
       "    .dataframe tbody tr th {\n",
       "        vertical-align: top;\n",
       "    }\n",
       "\n",
       "    .dataframe thead th {\n",
       "        text-align: right;\n",
       "    }\n",
       "</style>\n",
       "<table border=\"1\" class=\"dataframe\">\n",
       "  <thead>\n",
       "    <tr style=\"text-align: right;\">\n",
       "      <th></th>\n",
       "      <th>MarketID</th>\n",
       "      <th>LocationID</th>\n",
       "      <th>AgeOfStore</th>\n",
       "      <th>Promotion</th>\n",
       "      <th>week</th>\n",
       "      <th>SalesInThousands</th>\n",
       "    </tr>\n",
       "  </thead>\n",
       "  <tbody>\n",
       "    <tr>\n",
       "      <th>count</th>\n",
       "      <td>548.000000</td>\n",
       "      <td>548.000000</td>\n",
       "      <td>548.000000</td>\n",
       "      <td>548.000000</td>\n",
       "      <td>548.000000</td>\n",
       "      <td>548.000000</td>\n",
       "    </tr>\n",
       "    <tr>\n",
       "      <th>mean</th>\n",
       "      <td>5.715328</td>\n",
       "      <td>479.656934</td>\n",
       "      <td>8.503650</td>\n",
       "      <td>2.029197</td>\n",
       "      <td>2.500000</td>\n",
       "      <td>53.466204</td>\n",
       "    </tr>\n",
       "    <tr>\n",
       "      <th>std</th>\n",
       "      <td>2.877001</td>\n",
       "      <td>287.973679</td>\n",
       "      <td>6.638345</td>\n",
       "      <td>0.810729</td>\n",
       "      <td>1.119055</td>\n",
       "      <td>16.755216</td>\n",
       "    </tr>\n",
       "    <tr>\n",
       "      <th>min</th>\n",
       "      <td>1.000000</td>\n",
       "      <td>1.000000</td>\n",
       "      <td>1.000000</td>\n",
       "      <td>1.000000</td>\n",
       "      <td>1.000000</td>\n",
       "      <td>17.340000</td>\n",
       "    </tr>\n",
       "    <tr>\n",
       "      <th>25%</th>\n",
       "      <td>3.000000</td>\n",
       "      <td>216.000000</td>\n",
       "      <td>4.000000</td>\n",
       "      <td>1.000000</td>\n",
       "      <td>1.750000</td>\n",
       "      <td>42.545000</td>\n",
       "    </tr>\n",
       "    <tr>\n",
       "      <th>50%</th>\n",
       "      <td>6.000000</td>\n",
       "      <td>504.000000</td>\n",
       "      <td>7.000000</td>\n",
       "      <td>2.000000</td>\n",
       "      <td>2.500000</td>\n",
       "      <td>50.200000</td>\n",
       "    </tr>\n",
       "    <tr>\n",
       "      <th>75%</th>\n",
       "      <td>8.000000</td>\n",
       "      <td>708.000000</td>\n",
       "      <td>12.000000</td>\n",
       "      <td>3.000000</td>\n",
       "      <td>3.250000</td>\n",
       "      <td>60.477500</td>\n",
       "    </tr>\n",
       "    <tr>\n",
       "      <th>max</th>\n",
       "      <td>10.000000</td>\n",
       "      <td>920.000000</td>\n",
       "      <td>28.000000</td>\n",
       "      <td>3.000000</td>\n",
       "      <td>4.000000</td>\n",
       "      <td>99.650000</td>\n",
       "    </tr>\n",
       "  </tbody>\n",
       "</table>\n",
       "</div>"
      ],
      "text/plain": [
       "         MarketID  LocationID  AgeOfStore   Promotion        week  \\\n",
       "count  548.000000  548.000000  548.000000  548.000000  548.000000   \n",
       "mean     5.715328  479.656934    8.503650    2.029197    2.500000   \n",
       "std      2.877001  287.973679    6.638345    0.810729    1.119055   \n",
       "min      1.000000    1.000000    1.000000    1.000000    1.000000   \n",
       "25%      3.000000  216.000000    4.000000    1.000000    1.750000   \n",
       "50%      6.000000  504.000000    7.000000    2.000000    2.500000   \n",
       "75%      8.000000  708.000000   12.000000    3.000000    3.250000   \n",
       "max     10.000000  920.000000   28.000000    3.000000    4.000000   \n",
       "\n",
       "       SalesInThousands  \n",
       "count        548.000000  \n",
       "mean          53.466204  \n",
       "std           16.755216  \n",
       "min           17.340000  \n",
       "25%           42.545000  \n",
       "50%           50.200000  \n",
       "75%           60.477500  \n",
       "max           99.650000  "
      ]
     },
     "metadata": {},
     "output_type": "display_data"
    },
    {
     "name": "stdout",
     "output_type": "stream",
     "text": [
      "\n",
      "Promotion Data\n",
      "-------------------\n"
     ]
    },
    {
     "data": {
      "text/plain": [
       "Promotion\n",
       "3    188\n",
       "2    188\n",
       "1    172\n",
       "Name: count, dtype: int64"
      ]
     },
     "metadata": {},
     "output_type": "display_data"
    },
    {
     "name": "stdout",
     "output_type": "stream",
     "text": [
      "\n",
      "Missing Values\n",
      "-------------------\n"
     ]
    },
    {
     "data": {
      "text/plain": [
       "MarketID            0\n",
       "MarketSize          0\n",
       "LocationID          0\n",
       "AgeOfStore          0\n",
       "Promotion           0\n",
       "week                0\n",
       "SalesInThousands    0\n",
       "dtype: int64"
      ]
     },
     "metadata": {},
     "output_type": "display_data"
    }
   ],
   "source": [
    "# Loading the dataset\n",
    "df = pd.read_csv('WA_Marketing-Campaign.csv')\n",
    "\n",
    "print(\"Data Overview\")\n",
    "print(\"-------------------\")\n",
    "print(f\"Rows: {df.shape[0]}, Columns: {df.shape[1]}\")\n",
    "print(f\"\\nColumns: {list(df.columns)}\")\n",
    "display(df.head())\n",
    "\n",
    "print(\"\\nBasic Statistics\")\n",
    "print(\"-------------------\")\n",
    "display(df.describe())\n",
    "\n",
    "print(\"\\nPromotion Data\")\n",
    "print(\"-------------------\")\n",
    "display(df['Promotion'].value_counts())\n",
    "\n",
    "print(\"\\nMissing Values\")\n",
    "print(\"-------------------\")\n",
    "display(df.isnull().sum())"
   ]
  },
  {
   "cell_type": "code",
   "execution_count": null,
   "id": "6cd7cfd2",
   "metadata": {},
   "outputs": [
    {
     "data": {
      "text/plain": [
       "Index(['marketid', 'marketsize', 'locationid', 'ageofstore', 'promotion',\n",
       "       'week', 'salesinthousands'],\n",
       "      dtype='object')"
      ]
     },
     "execution_count": 72,
     "metadata": {},
     "output_type": "execute_result"
    }
   ],
   "source": [
    "df.columns = df.columns.str.lower()\n",
    "df.columns"
   ]
  },
  {
   "cell_type": "markdown",
   "id": "6a08e0de",
   "metadata": {},
   "source": [
    "### Overview:\n",
    "- Initially, the dataset looks solid with clear variables and no missing data.\n",
    "- The \"promotion\" type is the main variable that this A/B/C test will cover.\n",
    "- The \"salesinthousands\" will be the dependent variable, while the other variables will be independent.\n",
    "\n",
    "---"
   ]
  },
  {
   "cell_type": "code",
   "execution_count": null,
   "id": "ae07f8ea",
   "metadata": {},
   "outputs": [
    {
     "name": "stdout",
     "output_type": "stream",
     "text": [
      "Sales Summary by Promotion\n",
      "--------------------------\n"
     ]
    },
    {
     "data": {
      "text/html": [
       "<div>\n",
       "<style scoped>\n",
       "    .dataframe tbody tr th:only-of-type {\n",
       "        vertical-align: middle;\n",
       "    }\n",
       "\n",
       "    .dataframe tbody tr th {\n",
       "        vertical-align: top;\n",
       "    }\n",
       "\n",
       "    .dataframe thead th {\n",
       "        text-align: right;\n",
       "    }\n",
       "</style>\n",
       "<table border=\"1\" class=\"dataframe\">\n",
       "  <thead>\n",
       "    <tr style=\"text-align: right;\">\n",
       "      <th></th>\n",
       "      <th>count</th>\n",
       "      <th>mean</th>\n",
       "      <th>median</th>\n",
       "      <th>std</th>\n",
       "    </tr>\n",
       "    <tr>\n",
       "      <th>promotion</th>\n",
       "      <th></th>\n",
       "      <th></th>\n",
       "      <th></th>\n",
       "      <th></th>\n",
       "    </tr>\n",
       "  </thead>\n",
       "  <tbody>\n",
       "    <tr>\n",
       "      <th>1</th>\n",
       "      <td>172</td>\n",
       "      <td>58.10</td>\n",
       "      <td>55.39</td>\n",
       "      <td>16.55</td>\n",
       "    </tr>\n",
       "    <tr>\n",
       "      <th>2</th>\n",
       "      <td>188</td>\n",
       "      <td>47.33</td>\n",
       "      <td>45.39</td>\n",
       "      <td>15.11</td>\n",
       "    </tr>\n",
       "    <tr>\n",
       "      <th>3</th>\n",
       "      <td>188</td>\n",
       "      <td>55.36</td>\n",
       "      <td>51.16</td>\n",
       "      <td>16.77</td>\n",
       "    </tr>\n",
       "  </tbody>\n",
       "</table>\n",
       "</div>"
      ],
      "text/plain": [
       "           count   mean  median    std\n",
       "promotion                             \n",
       "1            172  58.10   55.39  16.55\n",
       "2            188  47.33   45.39  15.11\n",
       "3            188  55.36   51.16  16.77"
      ]
     },
     "metadata": {},
     "output_type": "display_data"
    },
    {
     "name": "stdout",
     "output_type": "stream",
     "text": [
      "\n",
      "\n"
     ]
    },
    {
     "data": {
      "image/png": "[encoded data removed]",
      "text/plain": [
       "<Figure size 800x500 with 1 Axes>"
      ]
     },
     "metadata": {},
     "output_type": "display_data"
    },
    {
     "data": {
      "text/plain": [
       "<Figure size 800x500 with 0 Axes>"
      ]
     },
     "metadata": {},
     "output_type": "display_data"
    },
    {
     "data": {
      "image/png": "[encoded data removed]",
      "text/plain": [
       "<Figure size 1000x600 with 1 Axes>"
      ]
     },
     "metadata": {},
     "output_type": "display_data"
    },
    {
     "name": "stdout",
     "output_type": "stream",
     "text": [
      "\n",
      "Which Promostion is the Best?\n",
      "-------------------------------\n",
      "Average sales by promotion:\n",
      "1: 58.1k (+8.7% vs overall average)\n",
      "2: 47.3k (-11.5% vs overall average)\n",
      "3: 55.4k (+3.6% vs overall average)\n",
      "\n",
      "Best performing: 1 (58.1k)\n",
      "Worst performing: 2 (47.3k)\n",
      "Performance gap: 10.8k (22.8% difference)\n"
     ]
    }
   ],
   "source": [
    "# Basic stats for each promotion\n",
    "summary_stats = df.groupby('promotion')['salesinthousands'].agg(['count', 'mean', 'median', 'std']).round(2)\n",
    "\n",
    "print(\"Sales Summary by Promotion\")\n",
    "print(\"--------------------------\")\n",
    "display(summary_stats)\n",
    "print('\\n')\n",
    "\n",
    "# Bar chart of sales in average\n",
    "avg_sales = df.groupby('promotion')['salesinthousands'].mean()\n",
    "plt.figure(figsize=(8, 5))\n",
    "bars = plt.bar(avg_sales.index, avg_sales.values)\n",
    "plt.title('Average Sales by Promotion')\n",
    "plt.ylabel('Sales (Thousands)')\n",
    "plt.xlabel('Promotion')\n",
    "# Value labels on bars\n",
    "for bar in bars:\n",
    "    height = bar.get_height()\n",
    "    plt.text(bar.get_x() + bar.get_width()/2., height + 0.5, f'{height:.1f}', ha='center', va='bottom')\n",
    "plt.show()\n",
    "\n",
    "# Box-plot comparison\n",
    "plt.figure(figsize=(8, 5))\n",
    "df.boxplot(column='salesinthousands', by='promotion')\n",
    "plt.title('Sales Distribution by Promotion')\n",
    "plt.suptitle('')  # to remove the automatic title\n",
    "plt.ylabel('Sales (Thousands)')\n",
    "plt.show()\n",
    "\n",
    "\n",
    "print(\"\\nWhich Promostion is the Best?\")\n",
    "print(\"-------------------------------\")\n",
    "promotion_means = df.groupby('promotion')['salesinthousands'].mean()\n",
    "overall_mean = df['salesinthousands'].mean()\n",
    "\n",
    "print(\"Average sales by promotion:\")\n",
    "for promo in promotion_means.index:\n",
    "    mean_val = promotion_means[promo]\n",
    "    diff_from_overall = mean_val - overall_mean\n",
    "    percent_diff = (diff_from_overall / overall_mean) * 100\n",
    "    print(f\"{promo}: {mean_val:.1f}k ({percent_diff:+.1f}% vs overall average)\")\n",
    "\n",
    "# Best and worst performing\n",
    "best_promo = promotion_means.idxmax()\n",
    "worst_promo = promotion_means.idxmin()\n",
    "performance_gap = promotion_means[best_promo] - promotion_means[worst_promo]\n",
    "\n",
    "print(f\"\\nBest performing: {best_promo} ({promotion_means[best_promo]:.1f}k)\")\n",
    "print(f\"Worst performing: {worst_promo} ({promotion_means[worst_promo]:.1f}k)\")\n",
    "print(f\"Performance gap: {performance_gap:.1f}k ({(performance_gap/promotion_means[worst_promo]*100):.1f}% difference)\")"
   ]
  },
  {
   "cell_type": "markdown",
   "id": "9e9a165e",
   "metadata": {},
   "source": [
    "\n",
    "### Overview:\n",
    "- Promotion 1 has the highest sales on average.\n",
    "- Promotion 2 has lower mean (47.33) and median (45.39) sales compared to Promotions 1 and 3.\n",
    "- Based on the Box-plots, there are some outliers in each promotion category.\n",
    "\n",
    "\n",
    "#### This analysis will be rerun after removing the outliers according to the Box-plot resutls:"
   ]
  },
  {
   "cell_type": "code",
   "execution_count": null,
   "id": "1afe7a0a",
   "metadata": {},
   "outputs": [
    {
     "name": "stdout",
     "output_type": "stream",
     "text": [
      "Sales Summary by Promotion (Outliers Removed)\n",
      "---------------------------------------------\n"
     ]
    },
    {
     "data": {
      "text/html": [
       "<div>\n",
       "<style scoped>\n",
       "    .dataframe tbody tr th:only-of-type {\n",
       "        vertical-align: middle;\n",
       "    }\n",
       "\n",
       "    .dataframe tbody tr th {\n",
       "        vertical-align: top;\n",
       "    }\n",
       "\n",
       "    .dataframe thead th {\n",
       "        text-align: right;\n",
       "    }\n",
       "</style>\n",
       "<table border=\"1\" class=\"dataframe\">\n",
       "  <thead>\n",
       "    <tr style=\"text-align: right;\">\n",
       "      <th></th>\n",
       "      <th>count</th>\n",
       "      <th>mean</th>\n",
       "      <th>median</th>\n",
       "      <th>std</th>\n",
       "    </tr>\n",
       "    <tr>\n",
       "      <th>promotion</th>\n",
       "      <th></th>\n",
       "      <th></th>\n",
       "      <th></th>\n",
       "      <th></th>\n",
       "    </tr>\n",
       "  </thead>\n",
       "  <tbody>\n",
       "    <tr>\n",
       "      <th>1</th>\n",
       "      <td>160</td>\n",
       "      <td>55.35</td>\n",
       "      <td>54.82</td>\n",
       "      <td>13.59</td>\n",
       "    </tr>\n",
       "    <tr>\n",
       "      <th>2</th>\n",
       "      <td>164</td>\n",
       "      <td>42.91</td>\n",
       "      <td>44.30</td>\n",
       "      <td>9.06</td>\n",
       "    </tr>\n",
       "    <tr>\n",
       "      <th>3</th>\n",
       "      <td>178</td>\n",
       "      <td>53.30</td>\n",
       "      <td>50.97</td>\n",
       "      <td>14.69</td>\n",
       "    </tr>\n",
       "  </tbody>\n",
       "</table>\n",
       "</div>"
      ],
      "text/plain": [
       "           count   mean  median    std\n",
       "promotion                             \n",
       "1            160  55.35   54.82  13.59\n",
       "2            164  42.91   44.30   9.06\n",
       "3            178  53.30   50.97  14.69"
      ]
     },
     "metadata": {},
     "output_type": "display_data"
    },
    {
     "name": "stdout",
     "output_type": "stream",
     "text": [
      "\n",
      "\n"
     ]
    },
    {
     "data": {
      "image/png": "[encoded data removed]",
      "text/plain": [
       "<Figure size 800x500 with 1 Axes>"
      ]
     },
     "metadata": {},
     "output_type": "display_data"
    },
    {
     "data": {
      "text/plain": [
       "<Figure size 800x500 with 0 Axes>"
      ]
     },
     "metadata": {},
     "output_type": "display_data"
    },
    {
     "data": {
      "image/png": "[encoded data removed]",
      "text/plain": [
       "<Figure size 1000x600 with 1 Axes>"
      ]
     },
     "metadata": {},
     "output_type": "display_data"
    },
    {
     "name": "stdout",
     "output_type": "stream",
     "text": [
      "\n",
      "Which Promotion is the Best? (Outliers Removed)\n",
      "-----------------------------------------------\n",
      "Average sales by promotion:\n",
      "1: 55.3k (+9.5% vs overall average)\n",
      "2: 42.9k (-15.1% vs overall average)\n",
      "3: 53.3k (+5.4% vs overall average)\n",
      "\n",
      "Best performing: 1 (55.3k)\n",
      "Worst performing: 2 (42.9k)\n",
      "Performance gap: 12.4k (29.0% difference)\n"
     ]
    }
   ],
   "source": [
    "# Removing the outliers using the IQR method\n",
    "def remove_outliers_iqr(group):\n",
    "    Q1 = group['salesinthousands'].quantile(0.25)\n",
    "    Q3 = group['salesinthousands'].quantile(0.75)\n",
    "    IQR = Q3 - Q1\n",
    "    lower = Q1 - 1.5 * IQR\n",
    "    upper = Q3 + 1.5 * IQR\n",
    "    return group[(group['salesinthousands'] >= lower) & (group['salesinthousands'] <= upper)]\n",
    "\n",
    "df_no_outliers = df.groupby('promotion', group_keys=False).apply(remove_outliers_iqr)\n",
    "\n",
    "\n",
    "# Rerunning the codes above\n",
    "summary_stats = df_no_outliers.groupby('promotion')['salesinthousands'].agg(['count', 'mean', 'median', 'std']).round(2)\n",
    "\n",
    "print(\"Sales Summary by Promotion (Outliers Removed)\")\n",
    "print(\"---------------------------------------------\")\n",
    "display(summary_stats)\n",
    "print('\\n')\n",
    "\n",
    "avg_sales = df_no_outliers.groupby('promotion')['salesinthousands'].mean()\n",
    "plt.figure(figsize=(8, 5))\n",
    "bars = plt.bar(avg_sales.index, avg_sales.values)\n",
    "plt.title('Average Sales by Promotion (Outliers Removed)')\n",
    "plt.ylabel('Sales (Thousands)')\n",
    "plt.xlabel('Promotion')\n",
    "# Value labels\n",
    "for bar in bars:\n",
    "    height = bar.get_height()\n",
    "    plt.text(bar.get_x() + bar.get_width()/2., height + 0.5, f'{height:.1f}', ha='center', va='bottom')\n",
    "plt.show()\n",
    "\n",
    "plt.figure(figsize=(8, 5))\n",
    "df_no_outliers.boxplot(column='salesinthousands', by='promotion')\n",
    "plt.title('Sales Distribution by Promotion (Outliers Removed)')\n",
    "plt.suptitle('')\n",
    "plt.ylabel('Sales (Thousands)')\n",
    "plt.show()\n",
    "\n",
    "print(\"\\nWhich Promotion is the Best? (Outliers Removed)\")\n",
    "print(\"-----------------------------------------------\")\n",
    "promotion_means = df_no_outliers.groupby('promotion')['salesinthousands'].mean()\n",
    "overall_mean = df_no_outliers['salesinthousands'].mean()\n",
    "\n",
    "print(\"Average sales by promotion:\")\n",
    "for promo in promotion_means.index:\n",
    "    mean_val = promotion_means[promo]\n",
    "    diff_from_overall = mean_val - overall_mean\n",
    "    percent_diff = (diff_from_overall / overall_mean) * 100\n",
    "    print(f\"{promo}: {mean_val:.1f}k ({percent_diff:+.1f}% vs overall average)\")\n",
    "\n",
    "best_promo = promotion_means.idxmax()\n",
    "worst_promo = promotion_means.idxmin()\n",
    "performance_gap = promotion_means[best_promo] - promotion_means[worst_promo]\n",
    "\n",
    "print(f\"\\nBest performing: {best_promo} ({promotion_means[best_promo]:.1f}k)\")\n",
    "print(f\"Worst performing: {worst_promo} ({promotion_means[worst_promo]:.1f}k)\")\n",
    "print(f\"Performance gap: {performance_gap:.1f}k ({(performance_gap/promotion_means[worst_promo]*100):.1f}% difference)\")\n"
   ]
  },
  {
   "cell_type": "markdown",
   "id": "6009b8ee",
   "metadata": {},
   "source": [
    "### After removing the outliers:\n",
    "- Promotion 1 has the highest sales on average.\n",
    "- Promotion 2 has lower mean (42.91) and median (44.30) sales compared to Promotions 1 and 3.\n",
    "- The results still look similar to the first analysis, so the outliers did not make much difference.\n",
    "- Therefore, removing the outliers is subjectively ignored, as they did not change the conclusion.\n",
    "\n",
    "---"
   ]
  },
  {
   "cell_type": "code",
   "execution_count": null,
   "id": "56bb183d",
   "metadata": {},
   "outputs": [
    {
     "name": "stdout",
     "output_type": "stream",
     "text": [
      "Testing Statistical Assumptions for ANOVA\n",
      "-----------------------------------------\n",
      "\n",
      "1. Testing if data is normally distributed\n",
      "\n",
      "3: p-value = 0.0000 - Not normally distributed.\n",
      "2: p-value = 0.0000 - Not normally distributed.\n",
      "1: p-value = 0.0000 - Not normally distributed.\n",
      "\n",
      "------------------------------------------\n",
      "\n",
      "2. Testing if groups have equal variance\n",
      "\n",
      "Groups have equal variance. (p-value = 0.2818)\n",
      "\n",
      "------------------------------------------\n"
     ]
    }
   ],
   "source": [
    "print(\"Testing Statistical Assumptions for ANOVA\")\n",
    "print(\"-----------------------------------------\\n\")\n",
    "\n",
    "# Data for each promotion\n",
    "promo_1 = df[df['promotion'] == df['promotion'].unique()[0]]['salesinthousands']\n",
    "promo_2 = df[df['promotion'] == df['promotion'].unique()[1]]['salesinthousands']\n",
    "promo_3 = df[df['promotion'] == df['promotion'].unique()[2]]['salesinthousands']\n",
    "\n",
    "promotion_data = [promo_1, promo_2, promo_3]\n",
    "promotion_names = df['promotion'].unique()\n",
    "\n",
    "# Test 1st assumption: Are the data normally distributed?\n",
    "print(\"1. Testing if data is normally distributed\\n\")\n",
    "normal_test_results = []\n",
    "for i, promo in enumerate(promotion_names):\n",
    "    stat, p_value = shapiro(promotion_data[i])\n",
    "    is_normal = \"Normally distributed.\" if p_value > 0.05 else \"Not normally distributed.\"\n",
    "    normal_test_results.append(is_normal)\n",
    "    print(f\"{promo}: p-value = {p_value:.4f} - {is_normal}\")\n",
    "print(\"\\n------------------------------------------\\n\")\n",
    "\n",
    "# Test 2nd assumption: Do groups have equal variance?\n",
    "print(\"2. Testing if groups have equal variance\\n\")\n",
    "levene_stat, levene_p = levene(*promotion_data)\n",
    "equal_variance = \"Groups have equal variance.\" if levene_p > 0.05 else \"Groups do not have equal variance.\"\n",
    "print(f\"{equal_variance} (p-value = {levene_p:.4f})\")\n",
    "print(\"\\n------------------------------------------\")"
   ]
  },
  {
   "cell_type": "markdown",
   "id": "d543a344",
   "metadata": {},
   "source": [
    "### The statistical assumptions for ANOVA are not satisfied.\n",
    "- The data is not normally distributed.\n",
    "- The categoriess have equal variance.\n",
    "\n",
    "Therefore, we should take a non-parametric approach and use the Kruskal-Wallis test instead of the ANOVA test.\n",
    "\n",
    "---"
   ]
  },
  {
   "cell_type": "code",
   "execution_count": null,
   "id": "07f716f1",
   "metadata": {},
   "outputs": [
    {
     "name": "stdout",
     "output_type": "stream",
     "text": [
      "\n",
      "Kruskal-Wallis Test Results\n",
      "-----------------------------\n",
      "H-statistic: 53.295\n",
      "p-value: 0.0000\n",
      "Result: Significant difference between promotions\n"
     ]
    }
   ],
   "source": [
    "print(\"\\nKruskal-Wallis Test Results\")\n",
    "print(\"-----------------------------\")\n",
    "\n",
    "# Kruskal-Wallis test results\n",
    "kruskal_stat, kruskal_p = kruskal(*promotion_data)\n",
    "print(f\"H-statistic: {kruskal_stat:.3f}\")\n",
    "print(f\"p-value: {kruskal_p:.4f}\")\n",
    "if kruskal_p < 0.05:\n",
    "    print(\"Result: Significant difference between promotions\")\n",
    "else:\n",
    "    print(\"Result: No significant difference between promotions\")"
   ]
  },
  {
   "cell_type": "code",
   "execution_count": null,
   "id": "80f9c5e8",
   "metadata": {},
   "outputs": [
    {
     "name": "stdout",
     "output_type": "stream",
     "text": [
      "\n",
      "Pairwise Comparisons - Which specific promotions are different?\n",
      "-----------------------------------------------------------------\n",
      "3 vs 2: p = 0.0000 - Significant\n",
      "3 vs 1: p = 0.0351 - Not significant\n",
      "2 vs 1: p = 0.0000 - Significant\n",
      "\n",
      "Note: Using corrected significance level of 0.017\n"
     ]
    }
   ],
   "source": [
    "print(\"\\nPairwise Comparisons - Which specific promotions are different?\")\n",
    "print(\"-----------------------------------------------------------------\")\n",
    "    \n",
    "# Compare each pair of promotions\n",
    "comparisons = []\n",
    "for i in range(len(promotion_names)):\n",
    "    for j in range(i+1, len(promotion_names)):\n",
    "        # Use Mann-Whitney U test for the pairwise comparison\n",
    "        stat, p_val = mannwhitneyu(promotion_data[i], promotion_data[j], alternative='two-sided')    \n",
    "        # Apply simple correction for multiple comparisons\n",
    "        corrected_alpha = 0.05 / 3  # 3 pairwise comparisons\n",
    "        is_significant = p_val < corrected_alpha\n",
    "        \n",
    "        comparison_name = f\"{promotion_names[i]} vs {promotion_names[j]}\"\n",
    "        comparisons.append({'Comparison': comparison_name, 'p-value': p_val, 'Significant': is_significant})\n",
    "        significance_text = \"Significant\" if is_significant else \"Not significant\"\n",
    "        print(f\"{comparison_name}: p = {p_val:.4f} - {significance_text}\")\n",
    "    \n",
    "print(f\"\\nNote: Using corrected significance level of {corrected_alpha:.3f}\")"
   ]
  },
  {
   "cell_type": "markdown",
   "id": "31c4989a",
   "metadata": {},
   "source": [
    "### Kruskal-Wallis Test & Pairwise Comparisons Results\n",
    "\n",
    "The Kruskal-Wallis test showed a significant overall difference between the promotions.\n",
    "\n",
    "To identify which specific promotions differed, pairwise comparisons were used. And showed that Promotion 2 differs significantly from both Promotion 1 and Promotion 3, while there was no significant difference between Promotion 1 and Promotion 3.\n",
    "\n",
    "---"
   ]
  },
  {
   "cell_type": "code",
   "execution_count": null,
   "id": "acd82688",
   "metadata": {},
   "outputs": [
    {
     "name": "stdout",
     "output_type": "stream",
     "text": [
      "Sales trends over 4 weeks:\n"
     ]
    },
    {
     "data": {
      "image/png": "[encoded data removed]",
      "text/plain": [
       "<Figure size 1000x600 with 1 Axes>"
      ]
     },
     "metadata": {},
     "output_type": "display_data"
    },
    {
     "name": "stdout",
     "output_type": "stream",
     "text": [
      "\n",
      "Average sales by market size and promotion:\n",
      "marketsize  promotion\n",
      "Large       1            75.235893\n",
      "            2            60.322031\n",
      "            3            77.203958\n",
      "Medium      1            47.672604\n",
      "            2            39.114352\n",
      "            3            45.468879\n",
      "Small       1            60.162500\n",
      "            2            50.810625\n",
      "            3            59.514167\n",
      "Name: salesinthousands, dtype: float64\n"
     ]
    }
   ],
   "source": [
    "# Analyzing the average sales performance over 4 weeks for each promotion\n",
    "print(\"Sales trends over 4 weeks:\")\n",
    "weekly_performance = df.groupby(['week', 'promotion'])['salesinthousands'].mean()\n",
    "\n",
    "plt.figure(figsize=(10, 6))\n",
    "weeks = [1, 2, 3, 4]\n",
    "for promo in promotion_names:\n",
    "    sales = [weekly_performance[week, promo] for week in weeks]\n",
    "    plt.plot(weeks, sales, marker='o', label=promo, linewidth=2)\n",
    "plt.title('Sales Performance Over 4 Weeks')\n",
    "plt.xlabel('Week')\n",
    "plt.ylabel('Average Sales (Thousands)')\n",
    "plt.xticks(weeks)\n",
    "plt.legend(title='Promotion')\n",
    "plt.grid(True, alpha=0.3)\n",
    "plt.tight_layout()\n",
    "plt.show()\n",
    "\n",
    "# Analyzing the performance by the market size\n",
    "print(\"\\nAverage sales by market size and promotion:\")\n",
    "market_performance = df.groupby(['marketsize', 'promotion'])['salesinthousands'].mean()\n",
    "print(market_performance)\n"
   ]
  },
  {
   "cell_type": "markdown",
   "id": "9a573000",
   "metadata": {},
   "source": [
    "### Overview:\n",
    "\n",
    "##### Weekly Sales Performance by Promotion\n",
    "- The line chart shows that Promotion 1 consistently achieved the highest average sales each week, staying above 57K.\n",
    "- Promotion 3 also performed well with stable results around 55–56K.\n",
    "- Promotion 2 had the lowest sales across all weeks, with a clear drop in Week 4.\n",
    "\n",
    "\n",
    "##### Average Sales by Market Size and Promotion\n",
    "- In large markets, Promotion 3 slightly outperforms Promotion 1, both far ahead of Promotion 2.\n",
    "- In medium and small markets, Promotion 1 performs best.\n",
    "- Promotion 2 consistently has the lowest sales across all market sizes.\n",
    "\n",
    "\n",
    "##### Age of Store\n",
    "The effect of store age on sales was examined, but it had no significant relationship.\n",
    "\n",
    "---"
   ]
  },
  {
   "cell_type": "markdown",
   "id": "afffd6f9",
   "metadata": {},
   "source": [
    "### Final Summary and Recommendations\n",
    "\n",
    "#### Summary of Findings:\n",
    "- Promotion 1 consistently outperforms the others in average sales across weeks and market sizes.\n",
    "- Promotion 3 performs similarly well, especially in large markets.\n",
    "- Promotion 2 consistently underperforms in all comparisons.\n",
    "- Outliers had minimal effect on the overall conclusions and were not removed from the final analysis.\n",
    "- Statistical assumptions for ANOVA were violated, leading to the use of Kruskal-Wallis test.\n",
    "- The Kruskal-Wallis test confirmed significant differences between promotions, especially showing that Promotion 2 differs significantly from the others.\n",
    "- Market size influences results, with Promotions 1 and 3 excelling in large markets.\n",
    "- Store age has no significant effect on sales performance.\n",
    "\n",
    "\n",
    "\n",
    "#### Recommendations:\n",
    "- Stop using Promotion 2 (Its underperformance shows that it's not effective.)\n",
    "- Prioritize Promotion 1 (It showed stronger results across all market types.)\n",
    "- Use Promotion 3 in large urban markets (It slightly outperforms Promotion 1 in these areas.)\n",
    "\n",
    "---"
   ]
  }
 ],
 "metadata": {
  "kernelspec": {
   "display_name": "Python 3",
   "language": "python",
   "name": "python3"
  },
  "language_info": {
   "codemirror_mode": {
    "name": "ipython",
    "version": 3
   },
   "file_extension": ".py",
   "mimetype": "text/x-python",
   "name": "python",
   "nbconvert_exporter": "python",
   "pygments_lexer": "ipython3",
   "version": "3.13.5"
  }
 },
 "nbformat": 4,
 "nbformat_minor": 5
}
